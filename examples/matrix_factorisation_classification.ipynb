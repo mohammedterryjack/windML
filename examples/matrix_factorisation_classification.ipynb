{
 "cells": [
  {
   "cell_type": "code",
   "execution_count": null,
   "metadata": {},
   "outputs": [],
   "source": [
    "sentences = [\n",
    "    \"hello\",\n",
    "    \"goodbye\",\n",
    "    \"what is the population of London?\"\n",
    "]\n",
    "intents = [\n",
    "    \"greet\",\n",
    "    \"farewell\",\n",
    "    \"query\"\n",
    "]\n",
    "\n",
    "from ffast import load \n",
    "tokeniser = load('poincare')\n",
    "sentence_vectors = list(map(lambda sentence: tokeniser.encode(sentence).vector, sentences))"
   ]
  },
  {
   "cell_type": "markdown",
   "metadata": {},
   "source": [
    "# Matric Factorisation Retrieval-based (model-free)"
   ]
  },
  {
   "cell_type": "code",
   "execution_count": null,
   "metadata": {},
   "outputs": [],
   "source": [
    "from windML import MFRClassifier\n",
    "classifier = MFRClassifier()\n",
    "classifier.fit(sentence_vectors,intents)"
   ]
  },
  {
   "cell_type": "code",
   "execution_count": null,
   "metadata": {},
   "outputs": [],
   "source": [
    "classifier.classify(sentence_vectors[0])"
   ]
  }
 ],
 "metadata": {
  "language_info": {
   "name": "python"
  },
  "orig_nbformat": 4
 },
 "nbformat": 4,
 "nbformat_minor": 2
}
