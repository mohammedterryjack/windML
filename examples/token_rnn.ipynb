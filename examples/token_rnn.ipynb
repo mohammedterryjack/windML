{
 "cells": [
  {
   "cell_type": "code",
   "execution_count": null,
   "metadata": {},
   "outputs": [],
   "source": [
    "from ffast import load\n",
    "from windML import RNN\n",
    "\n",
    "tokeniser = load('poincare')\n",
    "SENTENCE_VECTOR_SIZE = 1240\n",
    "POINCARE_TOKEN_VECTOR_SIZE = 100\n",
    "\n",
    "token_ids_vectoriser = lambda token_ids: list(map(\n",
    "    lambda token_vector:token_vector.reshape((-1,1)),\n",
    "    tokeniser.decode(token_ids).semantics()\n",
    "))\n",
    "encoder = lambda text: tokeniser.encode(text).vector.reshape(-1,1)\n",
    "\n",
    "decoder = RNN(token_vector_size=POINCARE_TOKEN_VECTOR_SIZE,token_vocabulary_size=len(tokeniser)+4,hidden_dimension=SENTENCE_VECTOR_SIZE)\n",
    "\n",
    "examples = [\"i love you\",\"i hate you\"]\n",
    "token_ids = list(map(lambda example:tokeniser.encode(example).ids,examples))\n",
    "contexts = [\"positive\",\"negative\"]\n",
    "context_vectors = list(map(encoder,contexts))\n",
    "\n",
    "decoder.fit(token_ids_vectoriser, token_ids)\n",
    "decoder.save(\"bla\")\n",
    "generated_token_ids = decoder.generate(token_ids_vectoriser,prompt_ids=[],condition_vector=encoder(\"positive\"))\n",
    "sentence = str(tokeniser.decode(generated_token_ids))\n",
    "print(sentence)"
   ]
  }
 ],
 "metadata": {
  "language_info": {
   "name": "python"
  },
  "orig_nbformat": 4
 },
 "nbformat": 4,
 "nbformat_minor": 2
}
